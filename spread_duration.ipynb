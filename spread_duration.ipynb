{
  "nbformat": 4,
  "nbformat_minor": 0,
  "metadata": {
    "colab": {
      "provenance": [],
      "authorship_tag": "ABX9TyPQiTl6YB+CcM/YeGHyPI8W",
      "include_colab_link": true
    },
    "kernelspec": {
      "name": "python3",
      "display_name": "Python 3"
    },
    "language_info": {
      "name": "python"
    }
  },
  "cells": [
    {
      "cell_type": "markdown",
      "metadata": {
        "id": "view-in-github",
        "colab_type": "text"
      },
      "source": [
        "<a href=\"https://colab.research.google.com/github/newmantic/spread_duration/blob/main/spread_duration.ipynb\" target=\"_parent\"><img src=\"https://colab.research.google.com/assets/colab-badge.svg\" alt=\"Open In Colab\"/></a>"
      ]
    },
    {
      "cell_type": "code",
      "execution_count": 1,
      "metadata": {
        "colab": {
          "base_uri": "https://localhost:8080/"
        },
        "id": "8O6e6uyBwPJX",
        "outputId": "6e5126a1-be8b-446c-df46-1e2bdb8609f1"
      },
      "outputs": [
        {
          "output_type": "stream",
          "name": "stdout",
          "text": [
            "Initial Bond Price: 1000.00\n",
            "Spread Duration: 7.7219\n"
          ]
        }
      ],
      "source": [
        "import numpy as np\n",
        "\n",
        "# Example bond characteristics\n",
        "face_value = 1000  # Face value of the bond\n",
        "coupon_rate = 0.05  # Annual coupon rate (5%)\n",
        "years_to_maturity = 10  # Years to maturity\n",
        "market_yield = 0.04  # Market yield (4%)\n",
        "spread = 0.01  # Credit spread (1%)\n",
        "\n",
        "def bond_price(face_value, coupon_rate, market_yield, years_to_maturity):\n",
        "    \"\"\"Calculates the price of a bond.\"\"\"\n",
        "    coupon = face_value * coupon_rate\n",
        "    present_value_coupons = np.sum([coupon / (1 + market_yield)**t for t in range(1, years_to_maturity + 1)])\n",
        "    present_value_face_value = face_value / (1 + market_yield)**years_to_maturity\n",
        "    return present_value_coupons + present_value_face_value\n",
        "\n",
        "def spread_duration(bond_price_func, face_value, coupon_rate, market_yield, years_to_maturity, spread, delta_spread):\n",
        "    \"\"\"Calculates the spread duration of a bond.\"\"\"\n",
        "    initial_price = bond_price_func(face_value, coupon_rate, market_yield + spread, years_to_maturity)\n",
        "    price_up = bond_price_func(face_value, coupon_rate, market_yield + spread + delta_spread, years_to_maturity)\n",
        "    price_down = bond_price_func(face_value, coupon_rate, market_yield + spread - delta_spread, years_to_maturity)\n",
        "\n",
        "    # Spread duration calculation\n",
        "    duration = (price_down - price_up) / (2 * initial_price * delta_spread)\n",
        "    return duration\n",
        "\n",
        "# Testable Example\n",
        "initial_bond_price = bond_price(face_value, coupon_rate, market_yield + spread, years_to_maturity)\n",
        "spread_duration_value = spread_duration(bond_price, face_value, coupon_rate, market_yield, years_to_maturity, spread, 0.001)\n",
        "\n",
        "print(f\"Initial Bond Price: {initial_bond_price:.2f}\")\n",
        "print(f\"Spread Duration: {spread_duration_value:.4f}\")"
      ]
    }
  ]
}